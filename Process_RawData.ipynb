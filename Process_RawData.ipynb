{
 "cells": [
  {
   "cell_type": "code",
   "execution_count": null,
   "id": "8b0b333b",
   "metadata": {},
   "outputs": [],
   "source": [
    "import pandas as pd\n",
    "import numpy as np\n",
    "\n",
    "dfs = []\n",
    "\n",
    "# 将多个文件整合到一个data frame数据中 merge all txt file into one data frame\n",
    "for num in range(1, 7):\n",
    "    file_path = f\"File{num}.txt\"\n",
    "    df = pd.read_csv(file_path, sep=\" \", header=None, names=[\"MeterID\", \"FiveDigitCode\", \"Consumption\"])\n",
    "    dfs.append(df)\n",
    "\n",
    "# 合并成一个总表\n",
    "merged_df = pd.concat(dfs, ignore_index=True)\n",
    "\n",
    "# 4) 解析五位码：前三位=天(DDD)，后两位=半小时槽(TT)\n",
    "codes = merged_df[\"FiveDigitCode\"].to_numpy(np.int32, copy=False)\n",
    "\n",
    "# 直接在 Pandas 里做整除/取模\n",
    "merged_df[\"day\"] = np.int16(codes // 100)   # <NA> 安全保留\n",
    "merged_df[\"halfhour\"] = np.int8(codes % 100)\n",
    "\n",
    "# 只保留 day ∈ [195, 730] 且 halfhour ∈ [1, 48]\n",
    "merged_df = merged_df[(merged_df[\"day\"].between(195, 730)) & (merged_df[\"halfhour\"].between(1, 48))]\n",
    "\n",
    "# 计算数组索引\n",
    "merged_df[\"day_idx\"] = (merged_df[\"day\"] - 195)\n",
    "merged_df[\"slot_idx\"] = (merged_df[\"halfhour\"] - 1)\n",
    "\n",
    "N_DAYS = 730-194\n",
    "N_SLOTS = 48\n",
    "meter_dict = {}\n",
    "\n",
    "\n",
    "for meter_id, g in merged_df.groupby(\"MeterID\", sort=False):\n",
    "    arr = np.full((N_DAYS, N_SLOTS), np.nan, dtype=np.float32)\n",
    "    rows, cols, vals = g[[\"day_idx\", \"slot_idx\", \"Consumption\"]].to_numpy(dtype=np.float32).T\n",
    "    arr[rows.astype(int), cols.astype(int)] = vals\n",
    "    meter_dict[int(meter_id)] = arr\n",
    "\n",
    "# 8) 简单检查\n",
    "print(f\"共构建 {len(meter_dict)} 个表计，示例键：\", list(meter_dict.keys())[:5])\n",
    "k0 = next(iter(meter_dict))\n",
    "print(\"示例数组形状：\", meter_dict[k0].shape)\n",
    "print(\"示例前两天前两槽：\\n\", meter_dict[k0][:2, :2])\n",
    "\n",
    "# 保存\n",
    "np.savez_compressed(\"meter_data.npz\", **{str(k): v for k, v in meter_dict.items()})\n",
    "print(\"✅ 保存成功：meter_data.npz\")"
   ]
  },
  {
   "cell_type": "code",
   "execution_count": 1,
   "id": "ed782743",
   "metadata": {},
   "outputs": [],
   "source": [
    "import numpy as np\n",
    "import pandas as pd\n",
    "from numpy.lib.stride_tricks import sliding_window_view\n",
    "\n",
    "data = np.load('meter_data.npz')\n",
    "file_list = data.files\n",
    "data_load = np.empty((len(file_list), data[\"1000\"].shape[0]*data[\"1000\"].shape[1]))\n",
    "\n",
    "for idx, file in enumerate(file_list):\n",
    "    data_load[idx] = data[file].reshape(-1)\n",
    "    \n",
    "data_load = data_load[:,-365*24:]\n"
   ]
  },
  {
   "cell_type": "code",
   "execution_count": 2,
   "id": "82c594fc",
   "metadata": {},
   "outputs": [],
   "source": [
    "# 去除所有连续空值\n",
    "\n",
    "# 1) 找出缺失值\n",
    "mask = np.isnan(data_load)\n",
    "\n",
    "# 2) 构造长度为4的滑动窗口\n",
    "windows = sliding_window_view(mask, window_shape=(1, 4))  # shape=(n_rows, n_cols-3, 1, 4)\n",
    "windows = windows.squeeze(2)                              # shape=(n_rows, n_cols-3, 4)\n",
    "\n",
    "# 3) 判断是否有4个连续的True\n",
    "has_4_consecutive = np.any(np.all(windows, axis=-1), axis=-1)\n",
    "\n",
    "# 4) 保留那些没有4个连续NaN的行\n",
    "data_load = data_load[~has_4_consecutive]\n"
   ]
  },
  {
   "cell_type": "code",
   "execution_count": 3,
   "id": "8c6b911e",
   "metadata": {},
   "outputs": [
    {
     "name": "stdout",
     "output_type": "stream",
     "text": [
      "[[0.15099999 0.77700001 0.12       ... 0.51099998 0.56199998 0.63      ]\n",
      " [0.014      0.014      0.212      ... 0.25       0.20999999 0.226     ]\n",
      " [0.26699999 0.528      2.03299999 ... 0.38100001 0.442      0.46799999]\n",
      " ...\n",
      " [3.80999994 1.07299995 1.25300002 ... 0.43099999 0.45899999 0.51499999]\n",
      " [2.41899991 1.62800002 1.79400003 ... 0.125      0.113      0.189     ]\n",
      " [0.206      0.29800001 0.085      ... 0.077      0.076      0.075     ]]\n"
     ]
    }
   ],
   "source": [
    "# 去除所有连续0值\n",
    "\n",
    "# 1) 找出0值\n",
    "mask = (data_load == 0)\n",
    "\n",
    "# 2) 构造长度为4的滑动窗口\n",
    "windows = sliding_window_view(mask, window_shape=(1, 2))  # shape=(n_rows, n_cols-3, 1, 4)\n",
    "windows = windows.squeeze(2)                              # shape=(n_rows, n_cols-3, 4)\n",
    "\n",
    "# 3) 判断是否有4个连续的True\n",
    "has_4_consecutive = np.any(np.all(windows, axis=-1), axis=-1)\n",
    "\n",
    "# 4) 保留那些没有4个连续NaN的行\n",
    "data_load = data_load[~has_4_consecutive]\n",
    "\n",
    "print(data_load)\n"
   ]
  },
  {
   "cell_type": "code",
   "execution_count": 4,
   "id": "3e55f32c",
   "metadata": {},
   "outputs": [
    {
     "name": "stdout",
     "output_type": "stream",
     "text": [
      "[[0.15099999 0.77700001 0.12       ... 0.51099998 0.56199998 0.63      ]\n",
      " [0.014      0.014      0.212      ... 0.25       0.20999999 0.226     ]\n",
      " [0.26699999 0.528      2.03299999 ... 0.38100001 0.442      0.46799999]\n",
      " ...\n",
      " [3.80999994 1.07299995 1.25300002 ... 0.43099999 0.45899999 0.51499999]\n",
      " [2.41899991 1.62800002 1.79400003 ... 0.125      0.113      0.189     ]\n",
      " [0.206      0.29800001 0.085      ... 0.077      0.076      0.075     ]]\n"
     ]
    }
   ],
   "source": [
    "A_filled = np.empty_like(data_load, dtype=float)\n",
    "\n",
    "for i, row in enumerate(data_load):\n",
    "    # 把 0 当成缺失\n",
    "    s = pd.Series(row, dtype=float).replace(0, np.nan)\n",
    "\n",
    "    # 插值（线性），再用最后值向后填充\n",
    "    s = s.interpolate(method='linear', limit_direction='both')\n",
    "    s = s.ffill()  # 向前填充（确保结尾 NaN 用最后一个数填）\n",
    "    s = s.bfill()  # 向后填充（确保开头 NaN 用第一个数填）\n",
    "\n",
    "    data_load[i] = s.to_numpy()\n",
    "\n",
    "print(data_load)\n"
   ]
  },
  {
   "cell_type": "code",
   "execution_count": 5,
   "id": "34469bcd",
   "metadata": {},
   "outputs": [
    {
     "name": "stdout",
     "output_type": "stream",
     "text": [
      "False\n",
      "[False False False ... False False False]\n",
      "False\n"
     ]
    }
   ],
   "source": [
    "# 判断是否存在空值\n",
    "print(np.isnan(data_load).any())\n",
    "\n",
    "# 每行：是否存在连续两个 0（水平方向）\n",
    "row_has_two = np.any(np.all(sliding_window_view(data_load == 0, 2, axis=1), axis=-1), axis=1)\n",
    "print(row_has_two)  # [ True False  True ]\n",
    "\n",
    "# 整个矩阵是否存在这样的行片段\n",
    "exists_any_row = np.any(row_has_two)\n",
    "print(exists_any_row)  # True\n",
    "\n",
    "# 统计每行 0 的数量\n",
    "zero_counts = np.sum(data_load == 0, axis=1)\n",
    "\n",
    "# 只打印含 0 的行及数量\n",
    "for i, count in enumerate(zero_counts):\n",
    "    if count > 0:\n",
    "        print(f\"第 {i} 行有 {count} 个 0\")\n",
    "\n",
    "np.savez_compressed('user_load',data_load)"
   ]
  }
 ],
 "metadata": {
  "kernelspec": {
   "display_name": "HLF",
   "language": "python",
   "name": "python3"
  },
  "language_info": {
   "codemirror_mode": {
    "name": "ipython",
    "version": 3
   },
   "file_extension": ".py",
   "mimetype": "text/x-python",
   "name": "python",
   "nbconvert_exporter": "python",
   "pygments_lexer": "ipython3",
   "version": "3.9.21"
  }
 },
 "nbformat": 4,
 "nbformat_minor": 5
}
